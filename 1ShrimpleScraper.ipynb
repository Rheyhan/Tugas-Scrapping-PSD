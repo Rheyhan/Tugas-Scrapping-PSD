{
 "cells": [
  {
   "cell_type": "code",
   "execution_count": 51,
   "metadata": {},
   "outputs": [],
   "source": [
    "#Parsing an HTML content\n",
    "import requests\n",
    "from bs4 import BeautifulSoup\n",
    "import re\n",
    "import pandas as pd\n",
    "import sys\n",
    "\n",
    "def progressBar(count_value, total, suffix=''):\n",
    "    bar_length = 100\n",
    "    filled_up_Length = int(round(bar_length* count_value / float(total)))\n",
    "    percentage = round(100.0 * count_value/float(total),1)\n",
    "    bar = '=' * filled_up_Length + '-' * (bar_length - filled_up_Length)\n",
    "    sys.stdout.write('[%s] %s%s ...%s\\r' %(bar, percentage, '%', suffix))\n",
    "    sys.stdout.flush()"
   ]
  },
  {
   "cell_type": "code",
   "execution_count": null,
   "metadata": {},
   "outputs": [],
   "source": [
    "#check the soup!\n",
    "URL = \"https://sinta.kemdikbud.go.id/affiliations/authors/430?page=1\"\n",
    "r = requests.get(URL)\n",
    "  \n",
    "soup = BeautifulSoup(r.content, 'html5lib')\n",
    "print(soup.prettify())"
   ]
  },
  {
   "cell_type": "code",
   "execution_count": 52,
   "metadata": {},
   "outputs": [
    {
     "name": "stdout",
     "output_type": "stream",
     "text": [
      "[====================================================================================================] 99.7% ...\r"
     ]
    }
   ],
   "source": [
    "#start scraping\n",
    "nama=[];sintascore=[];ID=[];departemen=[];sinta3=[];sinta=[];affilsc3=[];affilsc=[];scopus=[];GSH=[]\n",
    "for i in range(0,290):  #290 pages\n",
    "    progressBar(i+1, 290)\n",
    "    url=\"https://sinta.kemdikbud.go.id/affiliations/authors/430?page=\"\n",
    "    path=url+str(i+1)\n",
    "    r = requests.get(path)\n",
    "    \n",
    "    soup = BeautifulSoup(r.content, 'html5lib')\n",
    "    \n",
    "    table = soup.find('div', attrs = {'class':'content'})                                       #get body\n",
    "\n",
    "    for i in table.findAll('div', attrs = {'class':'au-item mt-3 mb-3 pb-5 pt-3'}):             #get specific div\n",
    "        nama.append(i.find(\"div\", attrs = {\"class\": \"profile-name\"}).text)\n",
    "        departemen.append(i.find(\"div\", attrs={\"class\" : \"profile-dept\"}).text.strip(' \\n\\t'))\n",
    "        ID.append(i.find(\"div\", attrs={\"class\" : \"profile-id\"}).text)\n",
    "        scopus.append(i.find(\"span\", attrs={\"class\" : \"profile-id text-warning\"}).text)\n",
    "        GSH.append(i.find(\"span\", attrs={\"class\" : \"profile-id text-success ml-3\"}).text)\n",
    "        \n",
    "        j=i.findAll(\"div\", attrs={\"class\" : \"stat-num text-center\"})\n",
    "        sinta3.append(j[0].text)\n",
    "        sinta.append(j[1].text)\n",
    "        affilsc3.append(j[2].text)\n",
    "        affilsc.append(j[3].text)\n",
    "    \n",
    "#get numeric value of data from string\n",
    "ID=[item for subitem in ID for item in subitem.split() if item.isdigit()]\n",
    "scopus=[item for subitem in scopus for item in subitem.split() if item.isdigit()]\n",
    "GSH=[item for subitem in GSH for item in subitem.split() if item.isdigit()]"
   ]
  },
  {
   "cell_type": "code",
   "execution_count": null,
   "metadata": {},
   "outputs": [],
   "source": [
    "print(len(ID))              #amount of lecturers"
   ]
  },
  {
   "cell_type": "code",
   "execution_count": 55,
   "metadata": {},
   "outputs": [],
   "source": [
    "pd.DataFrame.to_csv(pd.DataFrame({\"nama\": nama,\n",
    "              \"departemen\" : departemen,\n",
    "              \"ID\": ID,\n",
    "              \"Scopus H-Index\": scopus,\n",
    "              \"GS H-Index\" : GSH,\n",
    "              \"SINTA_score_3yr\": sinta3,\n",
    "              \"SINTA_score\": sinta,\n",
    "              \"Affil_score_3yr\": affilsc3,\n",
    "              \"Affil_score\" : affilsc\n",
    "              }), \"Lol.csv\")"
   ]
  }
 ],
 "metadata": {
  "kernelspec": {
   "display_name": "Python 3",
   "language": "python",
   "name": "python3"
  },
  "language_info": {
   "codemirror_mode": {
    "name": "ipython",
    "version": 3
   },
   "file_extension": ".py",
   "mimetype": "text/x-python",
   "name": "python",
   "nbconvert_exporter": "python",
   "pygments_lexer": "ipython3",
   "version": "3.11.3"
  },
  "orig_nbformat": 4
 },
 "nbformat": 4,
 "nbformat_minor": 2
}
